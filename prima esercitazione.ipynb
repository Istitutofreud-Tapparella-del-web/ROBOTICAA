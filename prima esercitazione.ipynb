{
 "cells": [
  {
   "cell_type": "markdown",
   "id": "d144c3df",
   "metadata": {},
   "source": [
    "# LA MIA PRIMA ESECITAZIONE"
   ]
  },
  {
   "cell_type": "markdown",
   "id": "a9adfce7",
   "metadata": {},
   "source": [
    "## SOTTOTITOLO"
   ]
  },
  {
   "cell_type": "markdown",
   "id": "3e278720",
   "metadata": {},
   "source": [
    "### SOTTOSOTTO"
   ]
  },
  {
   "cell_type": "code",
   "execution_count": 1,
   "id": "0a2b86ce",
   "metadata": {},
   "outputs": [
    {
     "name": "stdout",
     "output_type": "stream",
     "text": [
      "HELLO, WORD!\n"
     ]
    }
   ],
   "source": [
    "print(\"HELLO, WORD!\")"
   ]
  },
  {
   "cell_type": "code",
   "execution_count": 2,
   "id": "2334c69c",
   "metadata": {},
   "outputs": [
    {
     "name": "stdout",
     "output_type": "stream",
     "text": [
      "HELLO, WORD! 64\n"
     ]
    }
   ],
   "source": [
    "print(\"HELLO, WORD!\", 8*8)"
   ]
  },
  {
   "cell_type": "code",
   "execution_count": null,
   "id": "717e9c1c",
   "metadata": {},
   "outputs": [],
   "source": []
  },
  {
   "cell_type": "code",
   "execution_count": null,
   "id": "1dde4451",
   "metadata": {},
   "outputs": [],
   "source": [
    "nome = input(\"inserisci il tuo nome:\")\n",
    "print(\"ciao,\", nome , \"!\")"
   ]
  },
  {
   "cell_type": "code",
   "execution_count": null,
   "id": "4ae206ef",
   "metadata": {},
   "outputs": [],
   "source": [
    "via=input(\"inserisci il nome della via\")\n",
    "print(\"hai inserito\",via)"
   ]
  },
  {
   "cell_type": "code",
   "execution_count": 1,
   "id": "c5dba9a9",
   "metadata": {},
   "outputs": [
    {
     "name": "stdout",
     "output_type": "stream",
     "text": [
      "inserisci il tuo nome: luca\n",
      "so che non è il tuo nome ora sto per farti auto-distruggere il tuo windows\n",
      "so che non è il tuo nome ora sto per farti auto-distruggere il tuo windows\n",
      "so che non è il tuo nome ora sto per farti auto-distruggere il tuo windows\n",
      "so che non è il tuo nome ora sto per farti auto-distruggere il tuo windows\n",
      "so che non è il tuo nome ora sto per farti auto-distruggere il tuo windows\n",
      "so che non è il tuo nome ora sto per farti auto-distruggere il tuo windows\n",
      "so che non è il tuo nome ora sto per farti auto-distruggere il tuo windows\n",
      "so che non è il tuo nome ora sto per farti auto-distruggere il tuo windows\n",
      "so che non è il tuo nome ora sto per farti auto-distruggere il tuo windows\n",
      "so che non è il tuo nome ora sto per farti auto-distruggere il tuo windows\n"
     ]
    }
   ],
   "source": [
    "nome = input(\"inserisci il tuo nome: \")\n",
    "for contatore  in range(10):\n",
    "    print(\"so che non è il tuo nome ora sto per farti auto-distruggere il tuo windows\")"
   ]
  },
  {
   "cell_type": "code",
   "execution_count": 5,
   "id": "143655d4",
   "metadata": {},
   "outputs": [
    {
     "name": "stdout",
     "output_type": "stream",
     "text": [
      "inserisci il primo numero: 45\n",
      "inserisci il secondo numero: 89\n",
      "la somma è: 134\n"
     ]
    }
   ],
   "source": [
    "numero1 = int(input(\"inserisci il primo numero: \"))\n",
    "numero2 = int(input(\"inserisci il secondo numero: \"))\n",
    "somma = numero1 + numero2\n",
    "print(\"la somma è:\", somma)"
   ]
  },
  {
   "cell_type": "code",
   "execution_count": 7,
   "id": "01fecfeb",
   "metadata": {},
   "outputs": [
    {
     "name": "stdout",
     "output_type": "stream",
     "text": [
      "la sottrazione è: -44\n"
     ]
    }
   ],
   "source": [
    "sottrazione = numero1 - numero2\n",
    "print(\"la sottrazione è:\", sottrazione)"
   ]
  },
  {
   "cell_type": "code",
   "execution_count": 1,
   "id": "5a32f093",
   "metadata": {},
   "outputs": [
    {
     "name": "stdout",
     "output_type": "stream",
     "text": [
      "inserisci il primo numero: 9999999999999999999999999999999999999999999999999999999999999999999999999999999999999999999999999999999999999999999999999999999999999999999999999999999999999999999999999999999999999999999999999999999999999999999999999999999999999999999999999999999999999999999999999999999999999999999999999999999999999999999999999999999999999999999999999999999999999999999\n",
      "inserisci il secondo numero: 999999999999999999999999999999999999999999999999999999999999999999999999999999999999999999999999999999999999999999999999999999999999999999999999999999999999999999999999999999999999999999999999999999999999999999999999999999999999999999999999999999999999999999999999999999999999999999999999999999999999999999999999999999999999999999999999999999999\n",
      "la moltiplicazione è: 9999999999999999999999999999999999999999999999999999999999999999999999999999999999999999999999999999999999999999999999999999999999999999999999999999999999999999999999999999999999999999999999999999999999999999999999999999999999999999999999999999999999999999999999999999999999999999999999999999999999999999999999999999999999999999999999999999999989999999999000000000000000000000000000000000000000000000000000000000000000000000000000000000000000000000000000000000000000000000000000000000000000000000000000000000000000000000000000000000000000000000000000000000000000000000000000000000000000000000000000000000000000000000000000000000000000000000000000000000000000000000000000000000000000000000000000000001\n"
     ]
    }
   ],
   "source": [
    "numero1 = int(input(\"inserisci il primo numero: \"))\n",
    "numero2 = int(input(\"inserisci il secondo numero: \"))\n",
    "moltiplicazione = numero1 * numero2\n",
    "print(\"la moltiplicazione è:\", moltiplicazione)"
   ]
  },
  {
   "cell_type": "code",
   "execution_count": 1,
   "id": "14201e0f",
   "metadata": {},
   "outputs": [
    {
     "name": "stdout",
     "output_type": "stream",
     "text": [
      "0\n",
      "1\n",
      "2\n",
      "3\n",
      "4\n",
      "5\n",
      "6\n",
      "7\n",
      "8\n",
      "9\n",
      "10\n",
      "11\n",
      "12\n",
      "13\n",
      "14\n",
      "15\n",
      "16\n",
      "17\n",
      "18\n",
      "19\n",
      "20\n",
      "21\n",
      "22\n",
      "23\n",
      "24\n",
      "25\n",
      "26\n",
      "27\n",
      "28\n",
      "29\n",
      "30\n",
      "31\n",
      "32\n",
      "33\n",
      "34\n",
      "35\n",
      "36\n",
      "37\n",
      "38\n",
      "39\n",
      "40\n",
      "41\n",
      "42\n",
      "43\n",
      "44\n",
      "45\n",
      "46\n",
      "47\n",
      "48\n",
      "49\n",
      "50\n",
      "51\n",
      "52\n",
      "53\n",
      "54\n",
      "55\n",
      "56\n",
      "57\n",
      "58\n",
      "59\n",
      "60\n",
      "61\n",
      "62\n",
      "63\n",
      "64\n",
      "65\n",
      "66\n",
      "67\n",
      "68\n",
      "69\n",
      "70\n",
      "71\n",
      "72\n",
      "73\n",
      "74\n",
      "75\n",
      "76\n",
      "77\n",
      "78\n",
      "79\n",
      "80\n",
      "81\n",
      "82\n",
      "83\n",
      "84\n",
      "85\n",
      "86\n",
      "87\n",
      "88\n",
      "89\n"
     ]
    }
   ],
   "source": [
    "for numero in range(90):\n",
    "    print(numero)\n",
    "    "
   ]
  },
  {
   "cell_type": "code",
   "execution_count": 2,
   "id": "e8d87ec1",
   "metadata": {},
   "outputs": [
    {
     "name": "stdout",
     "output_type": "stream",
     "text": [
      "inserisci l'operazione(+, -, *, /):+\n",
      "inserisci il primo numero: 90\n",
      "inserisci il secondo numero: 9\n",
      "il risultato è:  99.0\n"
     ]
    }
   ],
   "source": [
    "operazione = input(\"inserisci l'operazione(+, -, *, /):\")\n",
    "\n",
    "\n",
    "numero1 = float(input(\"inserisci il primo numero: \"))\n",
    "numero2 = float(input(\"inserisci il secondo numero: \"))\n",
    "\n",
    "if operazione == \"+\":\n",
    "    risultato = numero1 + numero2\n",
    "elif operazione == \"-\":\n",
    "    risultato = numero1 - numero2\n",
    "elif operazione == \"*\":\n",
    "    risultato = numero1 * numero2\n",
    "elif operazione == \"/\":\n",
    "    risultato = numero1 / numero2\n",
    "else:\n",
    "    risultato = \"operazione non valida\"\n",
    "print(\"il risultato è: \", risultato)\n"
   ]
  },
  {
   "cell_type": "code",
   "execution_count": 3,
   "id": "e326c54d",
   "metadata": {},
   "outputs": [
    {
     "name": "stdout",
     "output_type": "stream",
     "text": [
      "inserisci l'operazione (+, -, *, /):+\n",
      "inserisci il primo numero: 9\n",
      "inserisci il secondo numero: 09\n",
      "il risultato è: 18\n"
     ]
    }
   ],
   "source": [
    "operazione = input(\"inserisci l'operazione (+, -, *, /):\")\n",
    "\n",
    "numero1 = int(input(\"inserisci il primo numero: \"))\n",
    "numero2 = int(input(\"inserisci il secondo numero: \"))\n",
    "\n",
    "if operazione == \"+\":\n",
    "    risultato = numero1+numero2\n",
    "elif operazione == \"-\":\n",
    "    risultato = numero1-numero2\n",
    "elif operazione == \"*\":\n",
    "    risultato = numero1*numero2\n",
    "elif operazione == \"/\":\n",
    "    risultato = numero1/numero2\n",
    "else:\n",
    "    risultato = \"operazione non valida\"\n",
    "    \n",
    "print(\"il risultato è:\", risultato)"
   ]
  },
  {
   "cell_type": "code",
   "execution_count": 4,
   "id": "69a96151",
   "metadata": {},
   "outputs": [
    {
     "name": "stdout",
     "output_type": "stream",
     "text": [
      "inserisci un numero intero positivo: 9\n",
      "1\n",
      "2\n",
      "3\n",
      "4\n",
      "5\n",
      "6\n",
      "7\n",
      "8\n",
      "9\n"
     ]
    }
   ],
   "source": [
    "n = int(input(\"inserisci un numero intero positivo: \"))\n",
    "\n",
    "for numero in range(1,n+1):\n",
    "    print(numero)"
   ]
  },
  {
   "cell_type": "code",
   "execution_count": 3,
   "id": "5167928e",
   "metadata": {},
   "outputs": [
    {
     "name": "stdout",
     "output_type": "stream",
     "text": [
      "inserisci un numero intero positivo: 7777\n",
      "la somma dei primi 7777 numeri interi è:  30244753\n"
     ]
    }
   ],
   "source": [
    "n = int(input(\"inserisci un numero intero positivo: \"))\n",
    "somma = 0 \n",
    "\n",
    "for numero in range(1 , n+1):\n",
    "    somma += numero \n",
    "print(\"la somma dei primi\", n, \"numeri interi è: \", somma)"
   ]
  },
  {
   "cell_type": "code",
   "execution_count": 1,
   "id": "d76ee058",
   "metadata": {},
   "outputs": [
    {
     "name": "stdout",
     "output_type": "stream",
     "text": [
      "inserisci un numero intero positivo:8\n",
      "quadrati dei primi 8 numeri:\n",
      "il quadrato di 1 è 1\n",
      "il quadrato di 2 è 4\n",
      "il quadrato di 3 è 9\n",
      "il quadrato di 4 è 16\n",
      "il quadrato di 5 è 25\n",
      "il quadrato di 6 è 36\n",
      "il quadrato di 7 è 49\n",
      "il quadrato di 8 è 64\n"
     ]
    }
   ],
   "source": [
    "n = int(input(\"inserisci un numero intero positivo:\"))\n",
    "print(\"quadrati dei primi\", n, \"numeri:\")\n",
    "\n",
    "for numero in range(1,n+1):\n",
    "    quadrato = numero **2\n",
    "    print(\"il quadrato di\", numero, \"è\", quadrato)"
   ]
  },
  {
   "cell_type": "code",
   "execution_count": 3,
   "id": "08273a71",
   "metadata": {},
   "outputs": [
    {
     "name": "stdout",
     "output_type": "stream",
     "text": [
      "inserisci un numero: 10002033994982\n",
      "10002033994982 è un numero pari.\n"
     ]
    }
   ],
   "source": [
    "numero = int(input(\"inserisci un numero: \"))\n",
    "if numero % 2 == 0:\n",
    "    print(numero, \"è un numero pari.\")\n",
    "else:\n",
    "    print(numero, \"è un numero dispari.\")\n"
   ]
  },
  {
   "cell_type": "code",
   "execution_count": 4,
   "id": "318084ef",
   "metadata": {},
   "outputs": [
    {
     "name": "stdout",
     "output_type": "stream",
     "text": [
      "inserisci un numero positivo: 90\n",
      "il fattoriale di 90 è: 1485715964481761497309522733620825737885569961284688766942216863704985393094065876545992131370884059645617234469978112000000000000000000000\n"
     ]
    }
   ],
   "source": [
    "n = int(input(\"inserisci un numero positivo: \"))\n",
    "fattoriale = 1\n",
    "\n",
    "for numero in range(1 , n+1):\n",
    "    fattoriale *= numero\n",
    "print(\"il fattoriale di\", n, \"è:\", fattoriale)\n"
   ]
  },
  {
   "cell_type": "code",
   "execution_count": 2,
   "id": "6e905b4e",
   "metadata": {},
   "outputs": [
    {
     "name": "stdout",
     "output_type": "stream",
     "text": [
      "quanti numeri vuoi inserire? 6\n",
      "inserisci un numero: 80\n",
      "inserisci un numero: 98\n",
      "inserisci un numero: 7\n",
      "inserisci un numero: 65\n",
      "inserisci un numero: 4\n",
      "inserisci un numero: 33\n",
      "la media dei numeri inseriti è:  47.833333333333336 [80.0, 98.0, 7.0, 65.0, 4.0, 33.0]\n"
     ]
    }
   ],
   "source": [
    "numeri = []\n",
    "n = int(input(\"quanti numeri vuoi inserire? \"))\n",
    "\n",
    "for i in range(n):\n",
    "    numero = float(input(\"inserisci un numero: \"))\n",
    "    numeri.append(numero)\n",
    "\n",
    "media = sum(numeri) / len(numeri)\n",
    "\n",
    "print(\"la media dei numeri inseriti è: \", media, numeri)\n"
   ]
  },
  {
   "cell_type": "code",
   "execution_count": 4,
   "id": "fe7ac33c",
   "metadata": {},
   "outputs": [
    {
     "ename": "SyntaxError",
     "evalue": "invalid syntax (1048961432.py, line 5)",
     "output_type": "error",
     "traceback": [
      "\u001b[1;36m  Cell \u001b[1;32mIn[4], line 5\u001b[1;36m\u001b[0m\n\u001b[1;33m    computer mossa = random.choise(mosse):\u001b[0m\n\u001b[1;37m             ^\u001b[0m\n\u001b[1;31mSyntaxError\u001b[0m\u001b[1;31m:\u001b[0m invalid syntax\n"
     ]
    }
   ],
   "source": [
    "import random\n",
    "\n",
    "mosse = (\" carta, forbice, sasso\")\n",
    "\n",
    "computer mossa = random.choise(mosse):\n",
    "    \n",
    "print(\"venvenuto al gioco della morra cinese\")\n",
    "scelta giocatore = input(\"scegli tra: carta, forbice, sasso:\")"
   ]
  },
  {
   "cell_type": "code",
   "execution_count": 6,
   "id": "28e34256",
   "metadata": {},
   "outputs": [
    {
     "ename": "SyntaxError",
     "evalue": "expected ':' (2695667051.py, line 5)",
     "output_type": "error",
     "traceback": [
      "\u001b[1;36m  Cell \u001b[1;32mIn[6], line 5\u001b[1;36m\u001b[0m\n\u001b[1;33m    for numero in range(2, 2 * n)\u001b[0m\n\u001b[1;37m                                 ^\u001b[0m\n\u001b[1;31mSyntaxError\u001b[0m\u001b[1;31m:\u001b[0m expected ':'\n"
     ]
    }
   ],
   "source": [
    "n = int(input(\"inserisci un numero intero positivo: \"))\n",
    "\n",
    "somma = 0\n",
    "\n",
    "for numero in range(2, 2 * n)"
   ]
  },
  {
   "cell_type": "code",
   "execution_count": null,
   "id": "ae0a1630",
   "metadata": {},
   "outputs": [],
   "source": [
    "n=int(input(\"inserisci un numero intero: \"))\n",
    "\n",
    "fattoriale=1\n",
    "\n",
    "if n<0:\n",
    "    print(\"numero negativo\")\n",
    "elif n==0:\n",
    "    print(\"il fattoriale di zero è 1 per definizione\")\n",
    "else:\n",
    "    for numero in range(1,n+1):\n",
    "        fattoriale*=numero\n",
    "print(f\"il fattoriale di {n} è {fattoriale}\")"
   ]
  },
  {
   "cell_type": "code",
   "execution_count": null,
   "id": "78654c5a",
   "metadata": {},
   "outputs": [],
   "source": [
    "n=int(input(\"inserisci un numero intero: \"))\n",
    "\n",
    "fattoriale=1\n",
    "\n",
    "if n<0:\n",
    "    print(\"numero negativo\")\n",
    "elif n==0:\n",
    "    print(\"il fattoriale di zero è 1 per definizione\")\n",
    "else:\n",
    "    for numero in range(1,n+1):\n",
    "        fattoriale*=numero\n",
    "        print(f\"il fattoriale di {n} è {fattoriale}\")\n",
    "        # se il print va messo nel ciclo for scrivera tutti i passagi fino alla soluzione\n",
    "        "
   ]
  },
  {
   "cell_type": "code",
   "execution_count": null,
   "id": "2163488d",
   "metadata": {},
   "outputs": [],
   "source": [
    "# chiedere all utente di inderire un numero intero positivo N\n",
    "N = int(input(\"inserisci un numero intero positivo N: \"))\n",
    "\n",
    "# inizializzare la sommma a zero\n",
    "somma = 0\n",
    "\n",
    "#calcolare la somma dei primi N numeri pari\n",
    "for numero in range(2, 2* N + 1, 2):\n",
    "    somma += numero\n",
    "    \n",
    "print(f\"la somma dei primi {N} numeri pari è {somma}\")"
   ]
  },
  {
   "cell_type": "code",
   "execution_count": null,
   "id": "0d59921d",
   "metadata": {},
   "outputs": [],
   "source": [
    "# chiedere all utente di inderire un numero intero positivo N\n",
    "N = int(input(\"inserisci un numero intero positivo N: \"))\n",
    "lista=[]\n",
    "\n",
    "#calcolare la somma dei primi N numeri pari\n",
    "for numero in range(2, 2* N + 1, 2):\n",
    "    lista.append(numero)\n",
    "    \n",
    "print(lista)"
   ]
  },
  {
   "cell_type": "code",
   "execution_count": null,
   "id": "8c44d882",
   "metadata": {},
   "outputs": [],
   "source": [
    "frase = input(\"inserisci una frase o una parola: \").lower()\n",
    "conteggio_vocali = 0\n",
    "vocali = \"aeiou\"\n",
    "for carattere in frase:\n",
    "    if carattere in vocali:\n",
    "        conteggio_vocali += 1\n",
    "print(f\"Nella frase inserita ci sono {conteggio_vocali} vocali\")"
   ]
  },
  {
   "cell_type": "code",
   "execution_count": null,
   "id": "0317c5f4",
   "metadata": {},
   "outputs": [],
   "source": []
  },
  {
   "cell_type": "code",
   "execution_count": 11,
   "id": "5283e455",
   "metadata": {},
   "outputs": [
    {
     "name": "stdout",
     "output_type": "stream",
     "text": [
      "indovina il numero(1-100): 80\n",
      "il numero è più grande.\n",
      "indovina il numero(1-100): 90\n",
      "il numero è più piccolo\n",
      "indovina il numero(1-100): 86\n",
      "il numero è più grande.\n",
      "indovina il numero(1-100): 87\n",
      "bravo! hai indovinato il numero 87 in 4 tentativi\n"
     ]
    }
   ],
   "source": [
    "import random\n",
    "\n",
    "numero_da_indovinare = random.randint(1, 100)\n",
    "tentativi = 0\n",
    "\n",
    "while True:\n",
    "    tentativo = int(input(\"indovina il numero(1-100): \"))\n",
    "    tentativi += 1\n",
    "    \n",
    "    if tentativo == numero_da_indovinare:\n",
    "        print(\"bravo! hai indovinato il numero\", numero_da_indovinare, \"in\", tentativi, \"tentativi\")\n",
    "        break\n",
    "    elif tentativo < numero_da_indovinare:\n",
    "              print(\"il numero è più grande.\")\n",
    "    else:\n",
    "              print(\"il numero è più piccolo\")\n",
    "              "
   ]
  },
  {
   "cell_type": "code",
   "execution_count": 11,
   "id": "3a50aa9d",
   "metadata": {},
   "outputs": [
    {
     "name": "stdout",
     "output_type": "stream",
     "text": [
      "inserisci un numero intero: 1500\n",
      "il fattoriale di 1500 è 48119977967797748601669900935813797818348080406726138081308559411630575189001095591292230585206733851868464009619343585194052091124618166270271481881393331431627962810299844149333789044689395510487167879769325303699470467829234399263326545652860748605075746366928323606645492277541120083438086727369377887676000211405318480244354207419604864176969950581435222198851194568984095705945549589054568321792338919149442985919957734792959402499096845643020401869381175603964424333222114125974374817804242633309769804293952870034619354125014210045647664063240162007560108665290568646128342557147350985358724154623253371867470765120422073867963935775258692109753041762094343569050497470353531764481503174750911858230906998361066084787758316110585736013365377431860738572261325738233656835271947352695180865573043834027955539012765489372645042504406597752357481931532872356635411224578334040522294746402829585458478708778346379431862368824819009177091444034885941394319343910223168655869761799669075059527608502465593181398566214786801211651657222004123456498258513120359126022843038535083709796101565934859483203933443308601475813108363074118562404412420191947127585482919172173045961122122701434297870691932154082986945954748251105782181586397275820342101470457300633590139512919549474113721711616912519714191760699935509810254849967087635936181176363954224186031346682928878492872249485456690138831610135377916327940503701400290125509132140782614640495733518048670983360134097860364762638658894873174499870133559364805443430831459505987809215393353387232078177562975021460595422358573128085417162336030235138652735438053034531962620811566019896879275257163988352090874930346115518331202927263708446729394381879888839549731876978682249320628599631628662375508826209854754631984276392670919216923002770077734756077549035942976209159416211581439461484509549370357486770276807687544580164314647595031368948490282897173328013518435758700056425922638411889496527975846052717958044813737086806600171993703579485864029383208714528950303253881360812631162134750100307772634337467012820470715650810714689905121432259528505483053930402217400686061612471659630192434864094539828085677465383026128353771071152304197549798870706139893609140045659756285435787771636258253666592102151236142132724425850991205720020493660580896600891888594659612927724357866265934517615841298789154462249169688860092640284756382431746120357767933119589280468687348061788072986362788582227019465263474828590646048451070702923434422714349595857654843699542321849363652767771978314681013589442955219879702008068934096624650625769705233333462826013860098698155180331145365652453482955497979915586438474687345677874451117702250441711504844638414485210092261397271970571029038581873069951161330495772310508760528249706514238384269808639507080418298318311361373628512041716415196868334254119137139589149597210032153545941114666530498906529240798164804007394775927836045668573993316428972539932745757171947402454257142633700815922407278403640595355142075599446056337986717212316223257763412164180899532722039383244462511410346646148863397237096276822656157561194665545757017429842404840309758925618650507921043007241637877939825811059339138925526124514467627126548126795078784022672860886251974581362141782786407402896309678008909663263987018538107050886193489012497405005820727271232733728141775132722013860591169620692789290456794698409808557447756701311883266010859016027592252397754508251628808293537776536569608111330584797160694847898923196743970244451842702266403326317319092117151143971679500042590269255093130215984418097418435474300467281949798227102529873732749027992079700287275900856241172902880909546551703263202853584498085358955307673717177961902081098618729046348849060249600000000000000000000000000000000000000000000000000000000000000000000000000000000000000000000000000000000000000000000000000000000000000000000000000000000000000000000000000000000000000000000000000000000000000000000000000000000000000000000000000000000000000000000000000000000000000000000000000000000000000000000000000000000000000000000000000000000000000000000000000000000000000\n"
     ]
    }
   ],
   "source": [
    "n = int(input(\"inserisci un numero intero: \"))\n",
    "fattoriale = 1\n",
    "if n<0:\n",
    "    print(\"numero negativo\")\n",
    "elif n==0:\n",
    "    print(\"il fattoriale di zero è 1 per definizione\")\n",
    "else:\n",
    "    for numero in range(1, n+1):\n",
    "        fattoriale*=numero\n",
    "print(f\"il fattoriale di {n} è {fattoriale}\")"
   ]
  },
  {
   "cell_type": "code",
   "execution_count": 12,
   "id": "3b86bd23",
   "metadata": {},
   "outputs": [
    {
     "name": "stdout",
     "output_type": "stream",
     "text": [
      "inserisci un numero intero positivo N90000\n",
      "la somma dei primi 90000 numeri pari è 8100090000\n"
     ]
    }
   ],
   "source": [
    "N = int(input(\"inserisci un numero intero positivo N\"))\n",
    "somma = 0\n",
    "for numero in range(2,2 * N + 1,2):\n",
    "    somma+=numero\n",
    "print(f\"la somma dei primi {N} numeri pari è {somma}\")"
   ]
  },
  {
   "cell_type": "code",
   "execution_count": 9,
   "id": "0ea3c652",
   "metadata": {},
   "outputs": [
    {
     "name": "stdout",
     "output_type": "stream",
     "text": [
      "inserisci una frase o una parola: ez\n",
      "nella frase inserita ci sono 1 vocali.\n"
     ]
    }
   ],
   "source": [
    "frase = input(\"inserisci una frase o una parola: \").lower()\n",
    "conteggio_vocali = 0\n",
    "vocali =\"aeiou\"\n",
    "for carattere in frase:\n",
    "    if carattere in vocali:\n",
    "        conteggio_vocali+=1\n",
    "print(f\"nella frase inserita ci sono {conteggio_vocali} vocali.\")"
   ]
  },
  {
   "cell_type": "code",
   "execution_count": 10,
   "id": "d94a7ace",
   "metadata": {},
   "outputs": [
    {
     "name": "stdout",
     "output_type": "stream",
     "text": [
      "indovina il numero del dado (da 1 a 6): 5\n",
      "mi dispiace, il numero del dado era 6. Meglio fortuna alla prossima volta\n"
     ]
    }
   ],
   "source": [
    "import random \n",
    "numero_dado = random.randint(1,6)\n",
    "indovina = int(input(\"indovina il numero del dado (da 1 a 6): \"))\n",
    "if indovina< 1 or indovina > 6:\n",
    "    print(\"numero non ammesso\")\n",
    "elif indovina == numero_dado:\n",
    "    print(f\" complimenti il numero del dado era {numero_dado}. Hai indovinato!\")\n",
    "else:\n",
    "    print(f\"mi dispiace, il numero del dado era {numero_dado}. Meglio fortuna alla prossima volta\")"
   ]
  },
  {
   "cell_type": "code",
   "execution_count": null,
   "id": "5073c279",
   "metadata": {},
   "outputs": [
    {
     "name": "stdout",
     "output_type": "stream",
     "text": [
      "inserire popolazione iniziale: 1\n"
     ]
    }
   ],
   "source": [
    "popolazione = int(input(\"inserire popolazione iniziale: \"))\n",
    "anni = int(input(\"inserisci numero di anni da simulare: \"))\n",
    "tasso_natalità = float(input(\"inserisci tasso di natalità: \"))\n",
    "tasso_mortalità = float(input(\"inserisci tasso mortalità: \"))\n",
    "for anno in range(anni):\n",
    "    nascite = (popolazione * tasso_natalità) /100\n",
    "    morti = (popolazione * tasso_mortalità) /100\n",
    "    popolazione += (nascite - morti)\n",
    "    print(f\"anno {anno}: popolazione = {int(popolazione)}\")\n",
    "print(\"simulazione completata.\")"
   ]
  },
  {
   "cell_type": "code",
   "execution_count": 1,
   "id": "17b527fc",
   "metadata": {},
   "outputs": [
    {
     "name": "stdout",
     "output_type": "stream",
     "text": [
      " oggi è il giorno:  04 10 2023 ore:  09 07 16\n"
     ]
    }
   ],
   "source": [
    "import datetime \n",
    "today = datetime.datetime.today()\n",
    "print(f\" oggi è il giorno: {today: %d %m %Y} ore: {today: %H %M %S}\")"
   ]
  },
  {
   "cell_type": "code",
   "execution_count": null,
   "id": "f615bdc6",
   "metadata": {},
   "outputs": [],
   "source": [
    "print(\" Benvenuto nel Convertitore di Unità di Misura!\")\n",
    "scelta = input(\"cosa desideri convertire? (metri/piedi/chilogrammi/libre): \").lower()\n",
    "if scelta == \"metri\":\n",
    "    valore = float(input(\"inserisci il valore in metri: \"))\n",
    "    print(f\"{valore} metri corrispondono a {risultato} piedi\")\n",
    "elif scelta == \"piedi\":\n",
    "    valore = float(input(\"inserisci il valore in piedi: \"))\n",
    "    print(f\"{valore} piedi corrispondono a {risultato} metri\")\n",
    "elif scelta == \"\":\n",
    "    valore = float(input(\"inserisci il valore in piedi: \"))\n",
    "    print(f\"{valore} piedi corrispondono a {risultato} metri\")"
   ]
  },
  {
   "cell_type": "code",
   "execution_count": 3,
   "id": "6785a7db",
   "metadata": {},
   "outputs": [
    {
     "name": "stdout",
     "output_type": "stream",
     "text": [
      "inserisci un numero n per calcolare l'n-esimo numero di fibonacci: 5\n",
      "L' n-esimo numero di fibonacci è: 3\n"
     ]
    }
   ],
   "source": [
    "n = int(input(\"inserisci un numero n per calcolare l'n-esimo numero di fibonacci: \"))\n",
    "a=0\n",
    "b=1\n",
    "c=1\n",
    "if n<= 0:\n",
    "    print(\"il numero deve essere maggiore di zero.\")\n",
    "elif n == 1:\n",
    "    risultato = a \n",
    "else: \n",
    "    for iterazione in range(n-3):\n",
    "        a = b\n",
    "        b = c\n",
    "        c = a + b\n",
    "    risultato = c\n",
    "print(\"L' n-esimo numero di fibonacci è:\", risultato)"
   ]
  },
  {
   "cell_type": "code",
   "execution_count": 1,
   "id": "6cb18cf1",
   "metadata": {},
   "outputs": [],
   "source": [
    "def fibonacci(n):\n",
    "    fib_series =[0, 1]\n",
    "    while len(fib_series) < n:\n",
    "        fib_series.append(fib_series[-1] + fib_series[-2])\n",
    "    return fib_series "
   ]
  },
  {
   "cell_type": "code",
   "execution_count": null,
   "id": "9744b055",
   "metadata": {},
   "outputs": [],
   "source": [
    "fibonacci(8)"
   ]
  },
  {
   "cell_type": "code",
   "execution_count": 5,
   "id": "bccfc1fc",
   "metadata": {},
   "outputs": [],
   "source": [
    "import math\n",
    "def calcola_area_cerchio(raggio):\n",
    "    return math.pi * (raggio ** 2)\n",
    "def calcola_area_rettangolo(base, altezza):\n",
    "    return base*altezza\n",
    "def calcola_area_triangolo(base, altezza):\n",
    "    return (base * altezza) / 2"
   ]
  },
  {
   "cell_type": "code",
   "execution_count": 2,
   "id": "21dd1785",
   "metadata": {},
   "outputs": [],
   "source": [
    "def calcola_bmi(peso, altezza):\n",
    "    return peso / (altezza ** 2)\n",
    "def valuta_bmi(bmi):\n",
    "    if bmi < 18.5:\n",
    "        return \"sottopeso\"\n",
    "    elif 18.5 <= bmi < 24.9:\n",
    "        return \"normopeso\"\n",
    "    elif 25 <= bmi < 29.4:\n",
    "        return \"obeso\"\n",
    "def main():\n",
    "    print(\"benvenuto nella calcolatrice bmi\")\n",
    "    peso = float(input(\"inserisci il tuo peso in chilogrammi:\"))\n",
    "    altezza = float(input(\"inserisci la tua altezza in metri:\"))\n",
    "    \n",
    "    bmi = calcola_bmi(peso, altezza)\n",
    "    valutazione = valuta_bmi(bmi)\n",
    "    \n",
    "    print(f\"il tuo bmi è {bmi:.2f}, sei classificato come '{valutazione}'.\")\n",
    "\n",
    "if __name__ == \"_main_\":\n",
    "    main()"
   ]
  },
  {
   "cell_type": "code",
   "execution_count": null,
   "id": "482b5869",
   "metadata": {},
   "outputs": [],
   "source": [
    "def metri_a_piedi(metri):\n",
    "    return metri * 3.28084\n",
    "def piedi_a_metri(piedi):\n",
    "    return piedi / 3.28084\n",
    "def chilogrammi_a_libbre(libbre):\n",
    "    return libbre / 2.20462\n",
    "\n",
    "def selezione(scelta):\n",
    "    if scelta == \"metri\":\n",
    "        valore = float(input(\"inserici il valore in metri: \"))\n",
    "        risultato = metri_a_piedi(valore)\n",
    "        print(f\"{valore: .3f} metri acorrispondono a {risultato: .3f} metri.\")\n",
    "    elif scelta == \"piedi\"\n",
    "        valore = float(input(\"inserici il valore in piedi: \"))\n",
    "        risultato = piedi_a_metri(valore)\n",
    "        print(f\"{valore: .3f} metri acorrispondono a {risultato: .3f} piedi.\")\n",
    "    elif scelta == \"chilogrammi\"\n",
    "        valore = float(input(\"inserici il valore in chilogrammi: \"))\n",
    "        risultato = piedi_a_metri(valore)\n",
    "        print(f\"{valore: .3f} metri acorrispondono a {risultato: .3f} piedi.\")\n",
    "        "
   ]
  },
  {
   "cell_type": "code",
   "execution_count": null,
   "id": "a824c40f",
   "metadata": {},
   "outputs": [
    {
     "name": "stdout",
     "output_type": "stream",
     "text": [
      "Benvenuto nella Calcolatrice di Aree!\n"
     ]
    }
   ],
   "source": [
    "print(\"Benvenuto nella Calcolatrice di Aree!\")\n",
    "\n",
    "scelta = input(\"Vuoi calcolare L'area di un cerchio (c),rettangolo(r) o triangolo (t) \")\n",
    "\n",
    "if scelta == \"c\":\n",
    "    raggio = float(input(\"inserici il raggio del cerchio: \"))\n",
    "    area = calcola_area_cerchio(raggio)\n",
    "    print(f\"L'area del cerchio è {area: .2f}\")\n",
    "elif scelta == \"r\":\n",
    "    base = float(input(\"inserici la base del rettangolo: \"))\n",
    "    altezza = float(input(\"inserisci l'altezza del rettangolo: \"))\n",
    "    area = calcola_area_rettangolo(base, altezza)\n",
    "    print(f\"L'area del rettangolo è {area: .2f}\")\n",
    "elif scelta == \"t\":\n",
    "    base = float(input(\"inserici la base del triangolo: \"))\n",
    "    altezza = float(input(\"inserisci l'altezza del triangolo: \"))\n",
    "    area = calcola_area_triangolo(base, altezza)\n",
    "    print(f\"L'area del rettangolo è {area: .2f}\")\n",
    "else:\n",
    "    print(\"Scelta non valida. Si prega di inserire c , r o t. \")"
   ]
  },
  {
   "cell_type": "code",
   "execution_count": 2,
   "id": "a5df7924",
   "metadata": {},
   "outputs": [],
   "source": [
    "def calcola_interessi(importo_iniziale , tasso_interesse, periodi_investimento):\n",
    "    importo_finale = importo_iniziale * (1 + tasso_interesse / 100) ** periodi_investimento\n",
    "    return importo_finale"
   ]
  },
  {
   "cell_type": "code",
   "execution_count": null,
   "id": "d0ddbad7",
   "metadata": {},
   "outputs": [
    {
     "name": "stdout",
     "output_type": "stream",
     "text": [
      "Benvenuto nel Calcolatore di Interessi!\n"
     ]
    }
   ],
   "source": [
    "print(\"Benvenuto nel Calcolatore di Interessi!\")\n",
    "importo = float(input(\"inserisci l'importo iniziale: \"))\n",
    "tasso = float(input(\"inserisci il tasso di interesse annuale (%): \"))\n",
    "periodo = float(input(\"inserisci il periodo di investimento (anni): \"))\n",
    "importo_finale = calcola_interessi(importo , tasso , periodo)\n",
    "print(f\"L'importo finale dopo {periodo} anni è di {importo_finale: .2f} euro.\")"
   ]
  },
  {
   "cell_type": "code",
   "execution_count": 3,
   "id": "822f04af",
   "metadata": {},
   "outputs": [
    {
     "data": {
      "text/plain": [
       "97656250000000.0"
      ]
     },
     "execution_count": 3,
     "metadata": {},
     "output_type": "execute_result"
    }
   ],
   "source": [
    "calcola_interessi(10000000,400,10)"
   ]
  },
  {
   "cell_type": "code",
   "execution_count": 5,
   "id": "138d17e4",
   "metadata": {},
   "outputs": [],
   "source": [
    "def forza_gravitazionale(m1, m2, r):\n",
    "    #Costante gravitazionale\n",
    "    G = 6.67430e-11 #N(m/kg)^2\n",
    "    \n",
    "    #calcolo della forza gravitazionale\n",
    "    F = (G * m1 * m2) / (r ** 2)\n",
    "    return F"
   ]
  },
  {
   "cell_type": "code",
   "execution_count": 6,
   "id": "9b49f0b8",
   "metadata": {},
   "outputs": [
    {
     "name": "stdout",
     "output_type": "stream",
     "text": [
      "Forza gravitazionale tra la terra e la luna: 1.9804922390990566e+20 Newton\n"
     ]
    }
   ],
   "source": [
    "massa_terra = 5.972e24\n",
    "massa_luna = 7.342e22\n",
    "distanza_terra_luna = 384400000\n",
    "forza = forza_gravitazionale(massa_terra, massa_luna , distanza_terra_luna)\n",
    "print(f\"Forza gravitazionale tra la terra e la luna: {forza} Newton\")"
   ]
  },
  {
   "cell_type": "code",
   "execution_count": null,
   "id": "213949b3",
   "metadata": {},
   "outputs": [
    {
     "name": "stdout",
     "output_type": "stream",
     "text": [
      "Benvenuto nel Risolutore di Anagrammi!\n"
     ]
    }
   ],
   "source": [
    "from itertools import permutations\n",
    "k=0\n",
    "\n",
    "def trova_anagrammi(parola):\n",
    "    anagrammi = [\"\".join(p) for p in permutations(parola)]\n",
    "    return anagrammi\n",
    "\n",
    "\n",
    "print(\"Benvenuto nel Risolutore di Anagrammi!\")\n",
    "parola_input = input(\"inserisci una parola: \").strip().lower()\n",
    "if len(parola_input) < 2:\n",
    "    print(\"inserisci una parola con almeno 2 caratteri.\")\n",
    "else:\n",
    "    anagrammi = trova_anagrammi(parola_input)\n",
    "    for anagramma in anagrammi:\n",
    "        if anagramma != parola_input:\n",
    "            k+=1\n",
    "            print(anagramma)\n",
    "    print(f\"Gli anagrammi di '{parola_input}' sono:'{k}'\")"
   ]
  },
  {
   "cell_type": "code",
   "execution_count": 6,
   "id": "42454b28",
   "metadata": {},
   "outputs": [
    {
     "name": "stdout",
     "output_type": "stream",
     "text": [
      "inserisci l'importo da convertire: 600\n",
      "inserisci la valuta di partenza: yen\n",
      "inserisci la valuta di destinazione: euro\n"
     ]
    },
    {
     "ename": "NameError",
     "evalue": "name 'tassi_cambio' is not defined",
     "output_type": "error",
     "traceback": [
      "\u001b[1;31m---------------------------------------------------------------------------\u001b[0m",
      "\u001b[1;31mNameError\u001b[0m                                 Traceback (most recent call last)",
      "Cell \u001b[1;32mIn[6], line 10\u001b[0m\n\u001b[0;32m      8\u001b[0m valuta_di_partenza \u001b[38;5;241m=\u001b[39m \u001b[38;5;28minput\u001b[39m(\u001b[38;5;124m\"\u001b[39m\u001b[38;5;124minserisci la valuta di partenza: \u001b[39m\u001b[38;5;124m\"\u001b[39m)\u001b[38;5;241m.\u001b[39mlower()\n\u001b[0;32m      9\u001b[0m valuta_destinazione \u001b[38;5;241m=\u001b[39m \u001b[38;5;28minput\u001b[39m(\u001b[38;5;124m\"\u001b[39m\u001b[38;5;124minserisci la valuta di destinazione: \u001b[39m\u001b[38;5;124m\"\u001b[39m)\u001b[38;5;241m.\u001b[39mlower()\n\u001b[1;32m---> 10\u001b[0m \u001b[38;5;28;01mif\u001b[39;00m valuta_di_partenza \u001b[38;5;129;01min\u001b[39;00m tassi_di_cambio \u001b[38;5;129;01mand\u001b[39;00m valuta_destinazione \u001b[38;5;129;01min\u001b[39;00m tassi_cambio:\n\u001b[0;32m     11\u001b[0m     tasso_di_cambio \u001b[38;5;241m=\u001b[39m tassi_di_cambio[valuta_destinazione] \u001b[38;5;241m/\u001b[39m tassi_di_cambio[valuta_di_partenza]\n\u001b[0;32m     12\u001b[0m     importo_convertito \u001b[38;5;241m=\u001b[39m importo \u001b[38;5;241m*\u001b[39m tasso_di_cambio\n",
      "\u001b[1;31mNameError\u001b[0m: name 'tassi_cambio' is not defined"
     ]
    }
   ],
   "source": [
    "tassi_di_cambio = {\n",
    "    \"dollari\":1.0,\n",
    "    \"euro\":0.85,\n",
    "    \"yen\":110.41,\n",
    "}\n",
    "\n",
    "importo = float(input(\"inserisci l'importo da convertire: \"))\n",
    "valuta_di_partenza = input(\"inserisci la valuta di partenza: \").lower()\n",
    "valuta_destinazione = input(\"inserisci la valuta di destinazione: \").lower()\n",
    "if valuta_di_partenza in tassi_di_cambio and valuta_destinazione in tassi_cambio:\n",
    "    tasso_di_cambio = tassi_di_cambio[valuta_destinazione] / tassi_di_cambio[valuta_di_partenza]\n",
    "    importo_convertito = importo * tasso_di_cambio"
   ]
  },
  {
   "cell_type": "code",
   "execution_count": 10,
   "id": "7eeb1348",
   "metadata": {},
   "outputs": [
    {
     "name": "stdout",
     "output_type": "stream",
     "text": [
      "inserisci una frase :longo è gay\n",
      "a : 1\n",
      "g : 2\n",
      "l : 1\n",
      "n : 1\n",
      "o : 2\n",
      "y : 1\n"
     ]
    }
   ],
   "source": [
    "frase=input(\"inserisci una frase :\")\n",
    "frase = frase.lower()\n",
    "alfabeto = \"abcdefghijklmnopqrstuvwxyz\"\n",
    "2onteggio_lettere = {}\n",
    "for lettera in alfabeto:\n",
    "    conteggio = frase.count(lettera)\n",
    "    if conteggio > 0:\n",
    "        conteggio_lettere[lettera] = conteggio\n",
    "for lettera, conteggio in conteggio_lettere.items():\n",
    "    print(f\"{lettera} : {conteggio}\")\n",
    "        "
   ]
  },
  {
   "cell_type": "code",
   "execution_count": 11,
   "id": "bba72d54",
   "metadata": {},
   "outputs": [],
   "source": [
    "prodotti = {}\n",
    "prodotti[\"panbauletto\"]=2\n",
    "prodotti[\"cocacola\"]=3\n"
   ]
  },
  {
   "cell_type": "code",
   "execution_count": 12,
   "id": "93feefa8",
   "metadata": {},
   "outputs": [
    {
     "data": {
      "text/plain": [
       "{'panbauletto': 2, 'cocacola': 3}"
      ]
     },
     "execution_count": 12,
     "metadata": {},
     "output_type": "execute_result"
    }
   ],
   "source": [
    "prodotti"
   ]
  },
  {
   "cell_type": "code",
   "execution_count": 13,
   "id": "1a4668aa",
   "metadata": {},
   "outputs": [
    {
     "ename": "SyntaxError",
     "evalue": "invalid syntax (187588678.py, line 9)",
     "output_type": "error",
     "traceback": [
      "\u001b[1;36m  Cell \u001b[1;32mIn[13], line 9\u001b[1;36m\u001b[0m\n\u001b[1;33m    \"Rio de Janeiro\" : \"America/Sao_Paulo\",\u001b[0m\n\u001b[1;37m                     ^\u001b[0m\n\u001b[1;31mSyntaxError\u001b[0m\u001b[1;31m:\u001b[0m invalid syntax\n"
     ]
    }
   ],
   "source": [
    "from datetime import datetime\n",
    "import pytz\n",
    "print(\"benvenuto nell'orologio mondiale!\")\n",
    "citta_fuso_orari = {\n",
    "    \"New York\": \"America/New_York\",\n",
    "    \"Londra\" : \"Europe/London\", \n",
    "    \"Tokyo\" : \"Asia/Tokyo\",\n",
    "    \"Sydney\" : \"Australia/Sydney\"\n",
    "    \"Rio de Janeiro\" : \"America/Sao_Paulo\",\n",
    "}\n",
    "while True : \n",
    "    print(\"\\nCittà disponibili: \")\n",
    "    for città in citta_fusi_orari.keys():\n",
    "        print(citta)\n",
    "    scelta_citta = input(\"inserisci il nome della città per visuallizzare l'ora (o 'esci' per uscire): \").strip()\n",
    "    if scelta_citta.lower() == 'esci':\n",
    "        break\n",
    "    if scelta_citta in citta_fusi_orari.keys():\n",
    "        fuso_orario = pytz.timezone(citta_fusi_orari[])"
   ]
  },
  {
   "cell_type": "code",
   "execution_count": 14,
   "id": "dd82fbef",
   "metadata": {},
   "outputs": [
    {
     "name": "stdout",
     "output_type": "stream",
     "text": [
      "mi chiamo paolo\n"
     ]
    }
   ],
   "source": [
    "def paolo():\n",
    "    print(\"mi chiamo paolo\")\n",
    "if __name__ == \"__main__\":\n",
    "    paolo()\n",
    "    "
   ]
  },
  {
   "cell_type": "code",
   "execution_count": 17,
   "id": "a7afbfe0",
   "metadata": {},
   "outputs": [
    {
     "name": "stdout",
     "output_type": "stream",
     "text": [
      "la funzione principale del codice è stata eseguita, in questa funzione possono essere presenti funzioni secondarie precedentemente create \n"
     ]
    }
   ],
   "source": [
    "def main():\n",
    "    print(\"la funzione principale del codice è stata eseguita, in questa funzione possono essere presenti funzioni secondarie precedentemente create \")\n",
    "   \n",
    "if __name__ == \"__main__\":\n",
    "        main()"
   ]
  },
  {
   "cell_type": "code",
   "execution_count": 22,
   "id": "1706050a",
   "metadata": {},
   "outputs": [
    {
     "ename": "SyntaxError",
     "evalue": "Missing parentheses in call to 'print'. Did you mean print(...)? (2466940747.py, line 16)",
     "output_type": "error",
     "traceback": [
      "\u001b[1;36m  Cell \u001b[1;32mIn[22], line 16\u001b[1;36m\u001b[0m\n\u001b[1;33m    print \"bmi\"\u001b[0m\n\u001b[1;37m    ^\u001b[0m\n\u001b[1;31mSyntaxError\u001b[0m\u001b[1;31m:\u001b[0m Missing parentheses in call to 'print'. Did you mean print(...)?\n"
     ]
    }
   ],
   "source": [
    "def calcola_bmi (peso, altezza):\n",
    "    return peso/(altezza ** 2)\n",
    "def valuta_bmi(bmi):\n",
    "    if bmi < 18.5:\n",
    "        return \"sottopeso\"\n",
    "    if 18.5 <= bmi < 24.9:\n",
    "        return \"normopeso\"\n",
    "    if 25 <= bmi < 29.9:\n",
    "        return \"sovrappeso\"\n",
    "    else : \"obeso\"\n",
    "def main():\n",
    "    print(\"Benvenuto nella Calcolatrice  BMI\")\n",
    "    peso = float(input(\"inserisci il tuo peso in chilogrammi\"))\n",
    "    altezza = float(input(\"inserisci la tua altezza\"))\n",
    "    bmi = calcola_bmi(peso, altezza)\n",
    "    valutazione = valuta_bmi(bmi)\n",
    "    "
   ]
  },
  {
   "cell_type": "code",
   "execution_count": null,
   "id": "c58f9b04",
   "metadata": {},
   "outputs": [],
   "source": [
    "cibo_calorie = {\n",
    "    \"pizza\": 285,\n",
    "    \"hamburger\": 250,\n",
    "    \"insalata\": 100,\n",
    "    \"pollo arrosto\": 335,\n",
    "    \"yogurt\": 150\n",
    "}\n",
    "def calorie_consumate(cibo, quantita):\n",
    "    if cibo not in cibo_calorie.keys():\n",
    "        print(\"cibo non presente\")\n",
    "    elif cibo in cibo_calorie[cibo]\n",
    "    calorie totali = (calorie_per_100g / 100) * quantita\n",
    "    return calorie\n",
    "\n",
    "def main():\n",
    "    cibo consumato []\n",
    "    \n",
    "    while True:\n",
    "        print(\"menu:\")\n",
    "        print(\")\n",
    "        "
   ]
  },
  {
   "cell_type": "code",
   "execution_count": null,
   "id": "8d086c8d",
   "metadata": {},
   "outputs": [],
   "source": []
  },
  {
   "cell_type": "code",
   "execution_count": null,
   "id": "4e998976",
   "metadata": {},
   "outputs": [],
   "source": []
  },
  {
   "cell_type": "code",
   "execution_count": null,
   "id": "5097da44",
   "metadata": {},
   "outputs": [],
   "source": []
  },
  {
   "cell_type": "code",
   "execution_count": null,
   "id": "96ffcabc",
   "metadata": {},
   "outputs": [],
   "source": []
  },
  {
   "cell_type": "code",
   "execution_count": 1,
   "id": "f77e6c90",
   "metadata": {},
   "outputs": [
    {
     "ename": "SyntaxError",
     "evalue": "unterminated string literal (detected at line 11) (445522113.py, line 11)",
     "output_type": "error",
     "traceback": [
      "\u001b[1;36m  Cell \u001b[1;32mIn[1], line 11\u001b[1;36m\u001b[0m\n\u001b[1;33m    print(f\")\u001b[0m\n\u001b[1;37m          ^\u001b[0m\n\u001b[1;31mSyntaxError\u001b[0m\u001b[1;31m:\u001b[0m unterminated string literal (detected at line 11)\n"
     ]
    }
   ],
   "source": [
    "import random \n",
    "speci = [\"Elfo\",\"Umano\",\"Nano\",\"Orco\",\"Gnomo\"]\n",
    "classi = [\"Guerriero\",\"Mago\",\"Ranger\",\"Ladro\",\"Chierico\"]\n",
    "armi = [\"Spada\",\"Arco\",\"Bacchetta magica\",\"Ascia\",\"Daga\"]\n",
    "abilita = [\"Furtività\",\"Magia dell'acqua\",\"Camuffamento\",\"Estrazione mineraria\",\"Incantesimi di guarigione\"]\n",
    "specie = radom.choice(speci)\n",
    "classe = random.choice(classi)\n",
    "arma = random.choice(armi)\n",
    "abilità_scelte = random.sample(abilità, random.random(1,3))\n",
    "print(f\"personaggio Fantasy Generato:\")\n",
    "print(f\")"
   ]
  },
  {
   "cell_type": "code",
   "execution_count": 9,
   "id": "2cc6e9cd",
   "metadata": {},
   "outputs": [
    {
     "name": "stdout",
     "output_type": "stream",
     "text": [
      "Personaggio Fantasy Generato: \n",
      "Specie: Elfo\n",
      "classe: Ranger\n",
      "arma: Bacchetta magica\n",
      "abilità_scelte: ['Furtività', \"Magia dell'acqua\", 'Estrazione mineraria']\n"
     ]
    }
   ],
   "source": [
    "import random \n",
    "speci = [\"Elfo\",\"Umano\",\"Nano\",\"Orco\",\"Gnomo\"]\n",
    "classi = [\"Guerriero\",\"Mago\",\"Ranger\",\"Ladro\",\"Chierico\"]\n",
    "armi = [\"Spada\",\"Arco\",\"Bacchetta magica\",\"Ascia\",\"Daga\"]\n",
    "abilità = [\"Furtività\",\"Magia dell'acqua\",\"Camuffamento\",\"Estrazione mineraria\",\"Incantesimi di guarigione\"]\n",
    "def crea_personaggio():\n",
    "    return{\n",
    "    \"Specie\" : random.choice(speci),\n",
    "    \"classe\" :  random.choice(classi),\n",
    "    \"arma\":  random.choice(armi),\n",
    "    \"abilità_scelte\" : random.sample(abilità, random.randint(1,3)),\n",
    "    }\n",
    "def main():\n",
    "    personaggio_generato = crea_personaggio()\n",
    "    print(\"Personaggio Fantasy Generato: \")\n",
    "    for chiave, valore in personaggio_generato.items():\n",
    "        if chiave == \"Abilità\":\n",
    "             valore = ','.join(valore)\n",
    "        print(f\"{chiave}: {valore}\")\n",
    "if __name__ == \"__main__\":\n",
    "    main()\n"
   ]
  },
  {
   "cell_type": "code",
   "execution_count": 10,
   "id": "f3440355",
   "metadata": {},
   "outputs": [],
   "source": [
    "import random\n",
    "physical_traits = [\"capelli neri\", \"capelli biondi\", \"occhi azzurri\"]\n"
   ]
  },
  {
   "cell_type": "code",
   "execution_count": 13,
   "id": "88499db1",
   "metadata": {},
   "outputs": [
    {
     "ename": "ValueError",
     "evalue": "Sample larger than population or is negative",
     "output_type": "error",
     "traceback": [
      "\u001b[1;31m---------------------------------------------------------------------------\u001b[0m",
      "\u001b[1;31mValueError\u001b[0m                                Traceback (most recent call last)",
      "Cell \u001b[1;32mIn[13], line 14\u001b[0m\n\u001b[0;32m     11\u001b[0m     \u001b[38;5;28mprint\u001b[39m(nuova_citazione)\n\u001b[0;32m     13\u001b[0m \u001b[38;5;28;01mif\u001b[39;00m \u001b[38;5;18m__name__\u001b[39m \u001b[38;5;241m==\u001b[39m \u001b[38;5;124m\"\u001b[39m\u001b[38;5;124m__main__\u001b[39m\u001b[38;5;124m\"\u001b[39m:\n\u001b[1;32m---> 14\u001b[0m     main()\n",
      "Cell \u001b[1;32mIn[13], line 9\u001b[0m, in \u001b[0;36mmain\u001b[1;34m()\u001b[0m\n\u001b[0;32m      8\u001b[0m \u001b[38;5;28;01mdef\u001b[39;00m \u001b[38;5;21mmain\u001b[39m():\n\u001b[1;32m----> 9\u001b[0m     nuova_citazione \u001b[38;5;241m=\u001b[39m crea_citazione()\n\u001b[0;32m     10\u001b[0m     \u001b[38;5;28mprint\u001b[39m(\u001b[38;5;124m\"\u001b[39m\u001b[38;5;124mnuova citazione generata:\u001b[39m\u001b[38;5;124m\"\u001b[39m)\n\u001b[0;32m     11\u001b[0m     \u001b[38;5;28mprint\u001b[39m(nuova_citazione)\n",
      "Cell \u001b[1;32mIn[13], line 5\u001b[0m, in \u001b[0;36mcrea_citazione\u001b[1;34m()\u001b[0m\n\u001b[0;32m      3\u001b[0m \u001b[38;5;28;01mdef\u001b[39;00m \u001b[38;5;21mcrea_citazione\u001b[39m():\n\u001b[0;32m      4\u001b[0m     num_frammenti \u001b[38;5;241m=\u001b[39m random\u001b[38;5;241m.\u001b[39mrandint(\u001b[38;5;241m5\u001b[39m,\u001b[38;5;241m7\u001b[39m)\n\u001b[1;32m----> 5\u001b[0m     citazione_rimescolata \u001b[38;5;241m=\u001b[39m random\u001b[38;5;241m.\u001b[39msample(frammenti, num_frammenti)\n\u001b[0;32m      6\u001b[0m     nuova_citazione \u001b[38;5;241m=\u001b[39m \u001b[38;5;124m\"\u001b[39m\u001b[38;5;124m\"\u001b[39m\u001b[38;5;241m.\u001b[39mjoin(citazione_rimescolata)\n\u001b[0;32m      7\u001b[0m     \u001b[38;5;28;01mreturn\u001b[39;00m nuova_citazione\n",
      "File \u001b[1;32m~\\anaconda3\\Lib\\random.py:456\u001b[0m, in \u001b[0;36mRandom.sample\u001b[1;34m(self, population, k, counts)\u001b[0m\n\u001b[0;32m    454\u001b[0m randbelow \u001b[38;5;241m=\u001b[39m \u001b[38;5;28mself\u001b[39m\u001b[38;5;241m.\u001b[39m_randbelow\n\u001b[0;32m    455\u001b[0m \u001b[38;5;28;01mif\u001b[39;00m \u001b[38;5;129;01mnot\u001b[39;00m \u001b[38;5;241m0\u001b[39m \u001b[38;5;241m<\u001b[39m\u001b[38;5;241m=\u001b[39m k \u001b[38;5;241m<\u001b[39m\u001b[38;5;241m=\u001b[39m n:\n\u001b[1;32m--> 456\u001b[0m     \u001b[38;5;28;01mraise\u001b[39;00m \u001b[38;5;167;01mValueError\u001b[39;00m(\u001b[38;5;124m\"\u001b[39m\u001b[38;5;124mSample larger than population or is negative\u001b[39m\u001b[38;5;124m\"\u001b[39m)\n\u001b[0;32m    457\u001b[0m result \u001b[38;5;241m=\u001b[39m [\u001b[38;5;28;01mNone\u001b[39;00m] \u001b[38;5;241m*\u001b[39m k\n\u001b[0;32m    458\u001b[0m setsize \u001b[38;5;241m=\u001b[39m \u001b[38;5;241m21\u001b[39m        \u001b[38;5;66;03m# size of a small set minus size of an empty list\u001b[39;00m\n",
      "\u001b[1;31mValueError\u001b[0m: Sample larger than population or is negative"
     ]
    }
   ],
   "source": [
    "import random \n",
    "frammenti = [\"a\",\"b\",\"c\"]\n",
    "def crea_citazione():\n",
    "    num_frammenti = random.randint(5,7)\n",
    "    citazione_rimescolata = random.sample(frammenti, num_frammenti)\n",
    "    nuova_citazione = \"\".join(citazione_rimescolata)\n",
    "    return nuova_citazione\n",
    "def main():\n",
    "    nuova_citazione = crea_citazione()\n",
    "    print(\"nuova citazione generata:\")\n",
    "    print(nuova_citazione)\n",
    "\n",
    "if __name__ == \"__main__\":\n",
    "    main()"
   ]
  },
  {
   "cell_type": "code",
   "execution_count": 2,
   "id": "0f9c3e95",
   "metadata": {},
   "outputs": [
    {
     "name": "stdout",
     "output_type": "stream",
     "text": [
      "il profondo mare danza\n",
      "il sereno amore splende\n",
      "nel amore sorride con  sereno cielo\n"
     ]
    }
   ],
   "source": [
    "import random\n",
    "aggettivi =[\"dolce\", \"sereno\", \"profondo\"]\n",
    "sostantivi = [\"amore\",\"mare\",\"cielo\",\"vento\"]\n",
    "verbi = [\"danza\",\"splende\",\"abbraccia\",\"canta\",\"sorride\"]\n",
    "def genera_poesia():\n",
    "    verso1 = f\"il {random.choice(aggettivi)} {random.choice(sostantivi)} {random.choice(verbi)}\"\n",
    "    verso2 = f\"il {random.choice(aggettivi)} {random.choice(sostantivi)} {random.choice(verbi)}\"\n",
    "    verso3 = f\"nel {random.choice(sostantivi)} {random.choice(verbi)} con  {random.choice(aggettivi)} {random.choice(sostantivi)}\";\n",
    "    return f\"{verso1}\\n{verso2}\\n{verso3}\"\n",
    "print(genera_poesia())\n",
    "    "
   ]
  },
  {
   "cell_type": "code",
   "execution_count": null,
   "id": "4965de13",
   "metadata": {},
   "outputs": [],
   "source": []
  },
  {
   "cell_type": "code",
   "execution_count": null,
   "id": "ac52dac7",
   "metadata": {},
   "outputs": [],
   "source": []
  },
  {
   "cell_type": "code",
   "execution_count": null,
   "id": "3842df54",
   "metadata": {},
   "outputs": [],
   "source": []
  }
 ],
 "metadata": {
  "kernelspec": {
   "display_name": "Python 3 (ipykernel)",
   "language": "python",
   "name": "python3"
  },
  "language_info": {
   "codemirror_mode": {
    "name": "ipython",
    "version": 3
   },
   "file_extension": ".py",
   "mimetype": "text/x-python",
   "name": "python",
   "nbconvert_exporter": "python",
   "pygments_lexer": "ipython3",
   "version": "3.11.4"
  }
 },
 "nbformat": 4,
 "nbformat_minor": 5
}
